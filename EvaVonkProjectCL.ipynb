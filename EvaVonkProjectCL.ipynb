{
 "cells": [
  {
   "metadata": {},
   "cell_type": "markdown",
   "source": "### Závěrečný projekt - modul Python",
   "id": "5f1453e00ba07110"
  },
  {
   "metadata": {},
   "cell_type": "markdown",
   "source": [
    "V tomto projektu budete analyzovat data ze stránky `www.sreality.cz`. Budete tedy získávat aktuální nabídku bytů ve Zlíně.\n",
    "Projekt se dělí na 2 části:\n",
    "1. WebScraping - pomocí knihovny `BeautifulSoup` získejte všechny aktuální inzerce bytů v daném městě. \n",
    "- Získáte **tyto** informace: `URL odkaz bytu, rozměry bytu, kompozice bytu, cena bytu, lokace bytu (Ulice+město)`\n",
    "2. Datová analýza - ETL proces\n",
    "- V první fázi prověďte processing dat tak, aby obsahovala příslušné datové typy, nenulové hodnoty atp. Ulice i město bude v samostatných sloupcích.\n",
    "- Zprocesovaná a vyčištěná data vyexportujte do `.csv` souboru s názvem `{vašeJméno}_zdrojová_data.csv`\n",
    "3. Datová analýza - analýza dat\n",
    "- Třetí část začněte tak, že si do dataframe nahrajete vámi vyexportovaný `.csv` soubor s vyscrapovanými daty.\n",
    "- Ve druhé fázi proveďte analýzu dat a odpovězte na tyto dotazy:\n",
    "- `Jaká je průměrná cena bytů?`\n",
    "- `Jaká je průměrná cena bytů pro každou kompozici (1+1, 2+1, atp.)? Zobrazte i na grafu.`\n",
    "- `Jaká je průměrná velikost bytu pro každou kompozici?`\n",
    "- `Existuje ulice, kde je vyšší koncentrace dražších bytů?`\n",
    "- `Jaký typ kompozice je v daném městě nejčastěji inzerovan? Který to je? Proč myslíte, že tomu tak je?`\n",
    "- `Existují zde inzerce bytů, které stojí více, než 20.000,-? Pokud ano, jsou v této cenové hladině inzerovány i maximálně dvoupokojové byty (2+1/2+kk)?`\n",
    "- `Zjištěte minimální a maximální inzerce pro každou kompozici bytu. Která kompozice má největší rozptyl mezi minimální a maximální inzerovanou cenou?`\n",
    "\n",
    "\n",
    "Dotazy zodpovězte ve vašem pracovním notebooku a výsledný soubor nahrajte na GitHub.\n"
   ],
   "id": "80f51208356c3824"
  },
  {
   "metadata": {},
   "cell_type": "markdown",
   "source": "### WebScraping",
   "id": "59dc9d3b2384bd4e"
  },
  {
   "cell_type": "code",
   "execution_count": null,
   "id": "initial_id",
   "metadata": {
    "collapsed": true
   },
   "outputs": [],
   "source": [
    "from bs4 import BeautifulSoup\n",
    "import requests\n",
    "\n",
    "strana = 1\n",
    "\n",
    "while True:\n",
    "    mesto = 'zlin'\n",
    "    data = requests.get(f'https://www.sreality.cz/hledani/pronajem/byty/{mesto}?strana={strana}').text\n",
    "    soup = BeautifulSoup(data, 'html.parser')\n",
    "\n",
    "    \"\"\"\n",
    "    ------------------------\n",
    "    Zde pište svůj kód \n",
    "    ------------------------\n",
    "    \"\"\"\n",
    "\n",
    "\n",
    "    \"\"\"\n",
    "    ------------------------------------------------------------------------------------------------\n",
    "    Tohle ponechte pod vaším kódem - kontroluje se, zda na stránce existuje tlačítko Další stránky. Pokud ne, program končí.\n",
    "    ------------------------------------------------------------------------------------------------\n",
    "    \"\"\"\n",
    "    \n",
    "    button = soup.find('button', 'MuiButtonBase-root MuiButton-root MuiButton-outlined MuiButton-outlinedInherit MuiButton-sizeMedium MuiButton-outlinedSizeMedium MuiButton-colorInherit MuiButton-root MuiButton-outlined MuiButton-outlinedInherit MuiButton-sizeMedium MuiButton-outlinedSizeMedium MuiButton-colorInherit css-lp5ywq').text\n",
    "\n",
    "    if button != 'Další stránka':\n",
    "        print('Již zde není žádná další strana. Končím')\n",
    "        break\n",
    "\n",
    "    strana += 1\n",
    "\n",
    "    print(f'Scrapuju stránku č. {strana}')"
   ]
  },
  {
   "metadata": {},
   "cell_type": "markdown",
   "source": "### Datová analýza",
   "id": "f54576ab629fed11"
  },
  {
   "metadata": {},
   "cell_type": "code",
   "outputs": [],
   "execution_count": null,
   "source": "import pandas as pd",
   "id": "4a2f14acc4baf746"
  }
 ],
 "metadata": {
  "kernelspec": {
   "display_name": "Python 3",
   "language": "python",
   "name": "python3"
  },
  "language_info": {
   "codemirror_mode": {
    "name": "ipython",
    "version": 2
   },
   "file_extension": ".py",
   "mimetype": "text/x-python",
   "name": "python",
   "nbconvert_exporter": "python",
   "pygments_lexer": "ipython2",
   "version": "2.7.6"
  }
 },
 "nbformat": 4,
 "nbformat_minor": 5
}
